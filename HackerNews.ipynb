{
 "cells": [
  {
   "cell_type": "markdown",
   "metadata": {
    "collapsed": true
   },
   "source": [
    "## Determining which type and timing of posts on Hacker News yields highest number of comments:\n",
    "\n",
    "Amongst the many categories of posts in Hacker News, there are 2 categories of concern:<br\\>\n",
    "1) Ask HN where users submit Ask HN posts to ask the Hacker News community a specific question<br\\>\n",
    "2)Show HN where users submit Show HN posts to show the Hacker News Communiity a project, product or just generally something interesting\n",
    "\n",
    "This data analysis aims to find which kind of posts and timing yields the highest number of comments and points per post.  With this information, users of Hacker News can decide on which type of post and when to post in order to receive desired audience engagement.\n",
    "\n",
    "The documentation for this dataset can be found at: https://www.kaggle.com/hacker-news/hacker-news-posts/home"
   ]
  },
  {
   "cell_type": "code",
   "execution_count": 215,
   "metadata": {},
   "outputs": [
    {
     "name": "stdout",
     "output_type": "stream",
     "text": [
      "['id', 'title', 'url', 'num_points', 'num_comments', 'author', 'created_at']\n",
      "['12224879', 'Interactive Dynamic Video', 'http://www.interactivedynamicvideo.com/', '386', '52', 'ne0phyte', '8/4/2016 11:52']\n",
      "['10975351', 'How to Use Open Source and Shut the Fuck Up at the Same Time', 'http://hueniverse.com/2016/01/26/how-to-use-open-source-and-shut-the-fuck-up-at-the-same-time/', '39', '10', 'josep2', '1/26/2016 19:30']\n",
      "['11964716', \"Florida DJs May Face Felony for April Fools' Water Joke\", 'http://www.thewire.com/entertainment/2013/04/florida-djs-april-fools-water-joke/63798/', '2', '1', 'vezycash', '6/23/2016 22:20']\n",
      "['11919867', 'Technology ventures: From Idea to Enterprise', 'https://www.amazon.com/Technology-Ventures-Enterprise-Thomas-Byers/dp/0073523429', '3', '1', 'hswarna', '6/17/2016 0:01']\n"
     ]
    }
   ],
   "source": [
    "#Displaying first 5 rows of data from the raw data file:\n",
    "from csv import reader\n",
    "\n",
    "opened_file = open('hacker_news.csv')\n",
    "read_file = reader(opened_file)\n",
    "hn = list(read_file)\n",
    "\n",
    "count = 0\n",
    "for each_row in hn:\n",
    "    count += 1\n",
    "    if count < 6:\n",
    "        print(each_row)"
   ]
  },
  {
   "cell_type": "markdown",
   "metadata": {},
   "source": [
    "### 1) Seperating rows into 'Ask HN', 'Show HN' and 'Other Posts' and finding out how many posts belong in each category:"
   ]
  },
  {
   "cell_type": "code",
   "execution_count": 216,
   "metadata": {},
   "outputs": [
    {
     "name": "stdout",
     "output_type": "stream",
     "text": [
      "1744\n",
      "1162\n",
      "17194\n"
     ]
    }
   ],
   "source": [
    "headers = hn[0:1]\n",
    "hn = hn[1:]\n",
    "\n",
    "#Gathering a list of all rows corresponding to Ask HN or Show HN:\n",
    "ask_posts = []\n",
    "show_posts = []\n",
    "other_posts = []\n",
    "for row in hn:\n",
    "    title = row[1].lower()\n",
    "    if title.startswith('ask hn') == True: \n",
    "        ask_posts.append(row)\n",
    "    elif title.startswith('show hn') == True:\n",
    "        show_posts.append(row)\n",
    "    else:\n",
    "        other_posts.append(row)\n",
    "        \n",
    "#Number of posts in ask_posts:\n",
    "ask_posts_count = 0 \n",
    "for row in ask_posts:\n",
    "    ask_posts_count += 1\n",
    "print(ask_posts_count)\n",
    "\n",
    "#Number of posts in show_posts:\n",
    "show_posts_count = 0\n",
    "for row in show_posts:\n",
    "    show_posts_count += 1\n",
    "print(show_posts_count)\n",
    "\n",
    "#Number of posts in other_posts:\n",
    "other_posts_count = 0\n",
    "for row in other_posts:\n",
    "    other_posts_count += 1\n",
    "print(other_posts_count) "
   ]
  },
  {
   "cell_type": "markdown",
   "metadata": {},
   "source": [
    "### 2) Determining number of total and average number of comments in each category of posts:"
   ]
  },
  {
   "cell_type": "code",
   "execution_count": 217,
   "metadata": {},
   "outputs": [
    {
     "name": "stdout",
     "output_type": "stream",
     "text": [
      "Total number of comments in Ask Hn-type posts are: 24483\n",
      "Average number of comments in Ask Hn-type posts are: 14.038417431192661\n",
      "Total number of comments in Show Hn-type posts are: 11988\n",
      "Average number of comments in Show Hn-type posts are: 10.31669535283993\n"
     ]
    }
   ],
   "source": [
    "#Determining total number of comments in Ask Hn-type posts:\n",
    "total_ask_comments = 0\n",
    "for each_post in ask_posts:\n",
    "    total_ask_comments += int(each_post[4])\n",
    "print('Total number of comments in Ask Hn-type posts are:', total_ask_comments)\n",
    "\n",
    "#Determining average number of comments in Ask Hn-type posts:\n",
    "ask_average_num_comments = total_ask_comments/ask_posts_count\n",
    "print('Average number of comments in Ask Hn-type posts are:', ask_average_num_comments)\n",
    "\n",
    "#Determining total number of comments in Show Hn-type posts:\n",
    "total_show_comments = 0\n",
    "for each_post in show_posts:\n",
    "    total_show_comments += int(each_post[4])\n",
    "print('Total number of comments in Show Hn-type posts are:', total_show_comments)\n",
    "\n",
    "#Determining average number of comments in Show Hn-type posts:\n",
    "average_show_comments = total_show_comments/show_posts_count\n",
    "print('Average number of comments in Show Hn-type posts are:', average_show_comments)"
   ]
  },
  {
   "cell_type": "markdown",
   "metadata": {},
   "source": [
    "Ask Hn-type posts generates a higher average number of comments per post than Show Hn-type posts and hence the remaining analysis in this report is focused on Ask Hn-type posts."
   ]
  },
  {
   "cell_type": "markdown",
   "metadata": {},
   "source": [
    "### 3) Determining highest number of posts and comments by hour:"
   ]
  },
  {
   "cell_type": "code",
   "execution_count": 218,
   "metadata": {},
   "outputs": [
    {
     "name": "stdout",
     "output_type": "stream",
     "text": [
      "At 15 00 hours --> num of posts = 116\n",
      "At 19 00 hours --> num of posts = 110\n",
      "At 21 00 hours --> num of posts = 109\n",
      "At 18 00 hours --> num of posts = 109\n",
      "At 16 00 hours --> num of posts = 108\n",
      "At 14 00 hours --> num of posts = 107\n",
      "At 17 00 hours --> num of posts = 100\n",
      "At 13 00 hours --> num of posts = 85\n",
      "At 20 00 hours --> num of posts = 80\n",
      "At 12 00 hours --> num of posts = 73\n",
      "At 22 00 hours --> num of posts = 71\n",
      "At 23 00 hours --> num of posts = 68\n",
      "At 01 00 hours --> num of posts = 60\n",
      "At 10 00 hours --> num of posts = 59\n",
      "At 11 00 hours --> num of posts = 58\n",
      "At 02 00 hours --> num of posts = 58\n",
      "At 00 00 hours --> num of posts = 55\n",
      "At 03 00 hours --> num of posts = 54\n",
      "At 08 00 hours --> num of posts = 48\n",
      "At 04 00 hours --> num of posts = 47\n",
      "At 05 00 hours --> num of posts = 46\n",
      "At 09 00 hours --> num of posts = 45\n",
      "At 06 00 hours --> num of posts = 44\n",
      "At 07 00 hours --> num of posts = 34\n",
      "\n",
      "\n",
      "At 15 00 hours --> num of comments = 4477.0\n",
      "At 16 00 hours --> num of comments = 1814.0\n",
      "At 21 00 hours --> num of comments = 1745.0\n",
      "At 20 00 hours --> num of comments = 1722.0\n",
      "At 18 00 hours --> num of comments = 1439.0\n",
      "At 14 00 hours --> num of comments = 1416.0\n",
      "At 02 00 hours --> num of comments = 1381.0\n",
      "At 13 00 hours --> num of comments = 1253.0\n",
      "At 19 00 hours --> num of comments = 1188.0\n",
      "At 17 00 hours --> num of comments = 1146.0\n",
      "At 10 00 hours --> num of comments = 793.0\n",
      "At 12 00 hours --> num of comments = 687.0\n",
      "At 01 00 hours --> num of comments = 683.0\n",
      "At 11 00 hours --> num of comments = 641.0\n",
      "At 23 00 hours --> num of comments = 543.0\n",
      "At 08 00 hours --> num of comments = 492.0\n",
      "At 22 00 hours --> num of comments = 479.0\n",
      "At 05 00 hours --> num of comments = 464.0\n",
      "At 00 00 hours --> num of comments = 447.0\n",
      "At 03 00 hours --> num of comments = 421.0\n",
      "At 06 00 hours --> num of comments = 397.0\n",
      "At 04 00 hours --> num of comments = 337.0\n",
      "At 07 00 hours --> num of comments = 267.0\n",
      "At 09 00 hours --> num of comments = 251.0\n"
     ]
    }
   ],
   "source": [
    "import datetime as dt\n",
    "\n",
    "#List of lists where by each row has 2 elements: Hour, number of comments\n",
    "list_of_time_and_comments = []\n",
    "for row in ask_posts:\n",
    "    date_and_time = dt.datetime.strptime(row[-1], '%m/%d/%Y %H:%M')\n",
    "    time_in_hr = dt.datetime.strftime(date_and_time, '%H')\n",
    "    list_of_time_and_comments.append([time_in_hr, float(row[4])])\n",
    "    \n",
    "#Forming 2 dictionaries of hour:number of posts and hour:number of comments\n",
    "num_of_posts_per_hr = {}\n",
    "num_of_comments_per_hr = {}\n",
    "for row in list_of_time_and_comments:\n",
    "    if row[0] in num_of_posts_per_hr:\n",
    "        num_of_posts_per_hr[row[0]] += 1\n",
    "    else:\n",
    "        num_of_posts_per_hr[row[0]] = 1\n",
    "        \n",
    "for row in list_of_time_and_comments:\n",
    "    if row[0] in num_of_comments_per_hr:\n",
    "        num_of_comments_per_hr[row[0]] += float(row[1])\n",
    "    else:\n",
    "        num_of_comments_per_hr[row[0]] = float(row[1])\n",
    "        \n",
    "        \n",
    "#Printing the no. posts by hour in descending order:\n",
    "counts_by_hr = [(v,k) for k,v in num_of_posts_per_hr.items()]#converting dict into tuple for sorting\n",
    "counts_by_hr = sorted(counts_by_hr, reverse=True)\n",
    "for tuple in counts_by_hr:\n",
    "    print('At', tuple[1], '00 hours --> num of posts =', tuple[0])\n",
    "    \n",
    "print('\\n')\n",
    "\n",
    "#Printing the no. of comments by hour in descending order:\n",
    "comments_by_hour = [(v,k) for k, v in num_of_comments_per_hr.items()]\n",
    "comments_by_hour = sorted(comments_by_hour, reverse=True)\n",
    "for tuple in comments_by_hour:\n",
    "    print('At', tuple[1], '00 hours --> num of comments =', tuple[0])\n",
    "    \n",
    "        \n",
    "    \n",
    "    "
   ]
  },
  {
   "cell_type": "markdown",
   "metadata": {},
   "source": [
    "### 4) Determining highest number of comments per post by hour:"
   ]
  },
  {
   "cell_type": "code",
   "execution_count": 219,
   "metadata": {},
   "outputs": [
    {
     "name": "stdout",
     "output_type": "stream",
     "text": [
      "At 15 00 hours --> Average num of comments per post = 38.59\n",
      "At 02 00 hours --> Average num of comments per post = 23.81\n",
      "At 20 00 hours --> Average num of comments per post = 21.52\n",
      "At 16 00 hours --> Average num of comments per post = 16.80\n",
      "At 21 00 hours --> Average num of comments per post = 16.01\n",
      "At 13 00 hours --> Average num of comments per post = 14.74\n",
      "At 10 00 hours --> Average num of comments per post = 13.44\n",
      "At 14 00 hours --> Average num of comments per post = 13.23\n",
      "At 18 00 hours --> Average num of comments per post = 13.20\n",
      "At 17 00 hours --> Average num of comments per post = 11.46\n",
      "At 01 00 hours --> Average num of comments per post = 11.38\n",
      "At 11 00 hours --> Average num of comments per post = 11.05\n",
      "At 19 00 hours --> Average num of comments per post = 10.80\n",
      "At 08 00 hours --> Average num of comments per post = 10.25\n",
      "At 05 00 hours --> Average num of comments per post = 10.09\n",
      "At 12 00 hours --> Average num of comments per post = 9.41\n",
      "At 06 00 hours --> Average num of comments per post = 9.02\n",
      "At 00 00 hours --> Average num of comments per post = 8.13\n",
      "At 23 00 hours --> Average num of comments per post = 7.99\n",
      "At 07 00 hours --> Average num of comments per post = 7.85\n",
      "At 03 00 hours --> Average num of comments per post = 7.80\n",
      "At 04 00 hours --> Average num of comments per post = 7.17\n",
      "At 22 00 hours --> Average num of comments per post = 6.75\n",
      "At 09 00 hours --> Average num of comments per post = 5.58\n"
     ]
    }
   ],
   "source": [
    "average_comments_per_post_hr = {}\n",
    "for x in num_of_posts_per_hr:\n",
    "    for y in num_of_comments_per_hr:\n",
    "        if x == y:\n",
    "            average_comments_per_post_hr[x] = float(num_of_comments_per_hr[x])/float(num_of_posts_per_hr[x])\n",
    "            \n",
    "avg_comments_per_post_by_hr = [(v,k) for k, v in average_comments_per_post_hr.items()]\n",
    "avg_comments_per_post_by_hr = sorted(avg_comments_per_post_by_hr, reverse=True)\n",
    "\n",
    "for tuple in avg_comments_per_post_by_hr:\n",
    "    new = '{:.2f}'.format(tuple[0])\n",
    "    print('At', tuple[1], '00 hours --> Average num of comments per post =', new)"
   ]
  },
  {
   "cell_type": "markdown",
   "metadata": {},
   "source": [
    "The top 5 hours with highest average number of comments per post are as follows(12 hrs ahead):\n",
    "\n",
    "1) 1500<br\\>\n",
    "2) 0200<br\\>\n",
    "3) 2000<br\\>\n",
    "4) 1600<br\\>\n",
    "5) 2100\n",
    "\n",
    "It should be noted these values correspond to Eastern Time in the US.\n",
    "\n",
    "Top 5 timing after converting to Singapore timezone:\n",
    "\n",
    "1) 0300<br\\>\n",
    "2) 1400<br\\>\n",
    "3) 0800<br\\>\n",
    "4) 0400<br\\>\n",
    "5) 0900<br\\>\n",
    "\n",
    "We have arrived at a conclusion that between Ask Hn posts and Show Hn posts, posts from Ask Hn at the above mentioned timings results in highest number of comments.  However, it is also important for us to determine which posts receive higher number of points as it is also a signal of how well received the posts are by the audience which is another important factor for a user wanting to decide what kind and when to post for positive maximum reach.\n",
    "\n",
    "### 5) Determining if Ask Hn type posts or Show Hn type posts receive higher number of points per post on average:"
   ]
  },
  {
   "cell_type": "code",
   "execution_count": 220,
   "metadata": {},
   "outputs": [
    {
     "name": "stdout",
     "output_type": "stream",
     "text": [
      "Average number of points per post for Ask Hn type posts = 15.06\n",
      "Average number of points per post for Show Hn type posts = 27.56\n"
     ]
    }
   ],
   "source": [
    "#Determining the average number of points per post for Ask Hn type posts:\n",
    "ask_posts_points = 0\n",
    "total_num_of_posts = 0\n",
    "for row in ask_posts:\n",
    "    total_num_of_posts += 1\n",
    "    ask_posts_points += float(row[3])\n",
    "print('Average number of points per post for Ask Hn type posts = {:.2f}'.format(ask_posts_points/total_num_of_posts))\n",
    "    \n",
    "#Determining the average number of points per post for Show Hn type posts:\n",
    "show_posts_points = 0\n",
    "total_num_of_posts = 0\n",
    "for row in show_posts:\n",
    "    total_num_of_posts += 1\n",
    "    show_posts_points += float(row[3])\n",
    "print('Average number of points per post for Show Hn type posts = {:.2f}'.format(show_posts_points/total_num_of_posts))"
   ]
  },
  {
   "cell_type": "markdown",
   "metadata": {},
   "source": [
    "Show Hn type posts receices more points per post despite having lower number of comments than Ask Hn type posts.  This could mean that the audience viewing Show Hn posts prefer the content more than Ask Hn posts but are less compelled to comment on the content.  "
   ]
  },
  {
   "cell_type": "markdown",
   "metadata": {},
   "source": [
    "### 6) Determining if posts created at a certain time are more likely to receive more points:\n",
    "\n",
    "Since we have determined that Show Hn posts receive higher number of points per post on average, we will focus on Show Hn posts:"
   ]
  },
  {
   "cell_type": "code",
   "execution_count": 221,
   "metadata": {},
   "outputs": [
    {
     "name": "stdout",
     "output_type": "stream",
     "text": [
      "At 23 00 hours --> average points per post =  42.39\n",
      "At 12 00 hours --> average points per post =  41.69\n",
      "At 22 00 hours --> average points per post =  40.35\n",
      "At 00 00 hours --> average points per post =  37.84\n",
      "At 18 00 hours --> average points per post =  36.31\n",
      "At 11 00 hours --> average points per post =  33.64\n",
      "At 19 00 hours --> average points per post =  30.95\n",
      "At 20 00 hours --> average points per post =  30.32\n",
      "At 15 00 hours --> average points per post =  28.56\n",
      "At 16 00 hours --> average points per post =  28.32\n",
      "At 17 00 hours --> average points per post =  27.11\n",
      "At 14 00 hours --> average points per post =  25.43\n",
      "At 03 00 hours --> average points per post =  25.15\n",
      "At 01 00 hours --> average points per post =  25.00\n",
      "At 13 00 hours --> average points per post =  24.63\n",
      "At 06 00 hours --> average points per post =  23.44\n",
      "At 07 00 hours --> average points per post =  19.00\n",
      "At 10 00 hours --> average points per post =  18.92\n",
      "At 09 00 hours --> average points per post =  18.43\n",
      "At 21 00 hours --> average points per post =  18.43\n",
      "At 08 00 hours --> average points per post =  15.26\n",
      "At 04 00 hours --> average points per post =  14.85\n",
      "At 02 00 hours --> average points per post =  11.33\n",
      "At 05 00 hours --> average points per post =  5.47\n"
     ]
    }
   ],
   "source": [
    "import datetime as dt\n",
    "\n",
    "num_of_posts_per_hr = {}\n",
    "num_of_points_per_hr = {}\n",
    "for row in show_posts:\n",
    "    time = dt.datetime.strptime(row[-1], '%m/%d/%Y %H:%M')\n",
    "    hour = dt.datetime.strftime(time,'%H')\n",
    "    if hour in num_of_points_per_hr and hour in num_of_posts_per_hr:\n",
    "        num_of_points_per_hr[hour] += float(row[3])\n",
    "        num_of_posts_per_hr[hour] += 1\n",
    "    else:\n",
    "        num_of_points_per_hr[hour] = float(row[3])\n",
    "        num_of_posts_per_hr[hour] = 1\n",
    "    \n",
    "average_points_per_hr = {}\n",
    "for x in num_of_points_per_hr:\n",
    "    for y in num_of_posts_per_hr:\n",
    "        if y == x:\n",
    "            average_points_per_hr[y] = num_of_points_per_hr[x]/num_of_posts_per_hr[y]\n",
    "\n",
    "average_points_per_hour = [(v,k) for k, v in average_points_per_hr.items()]\n",
    "average_points_per_hour = sorted(average_points_per_hour, reverse=True)\n",
    "\n",
    "for tuple in average_points_per_hour:\n",
    "    print('At', tuple[1], '00 hours --> average points per post = ', '{:.2f}'.format(tuple[0]))\n",
    "    "
   ]
  },
  {
   "cell_type": "markdown",
   "metadata": {},
   "source": [
    "Top 5 post timings based on number of points:\n",
    "\n",
    "1) 2300(eastern time) -> 1100(Sg time)<br\\>\n",
    "2) 1200(eastern time) -> 0000(Sg time)<br\\>\n",
    "3) 2200(eastern time) -> 1000(Sg time)<br\\>\n",
    "4) 0000(eastern time) -> 1200(Sg time)<br\\>\n",
    "5) 1800(eastern time) -> 0600(Sg time)\n",
    "\n",
    "Hence, for users who are more concerned with posting well-received content rather than posts with highest number of comments, Show-Hn type posts at the above-mentioned timings will probably generate the desired audience engagement."
   ]
  },
  {
   "cell_type": "markdown",
   "metadata": {},
   "source": [
    "### Comparing the Ask Hn posts and Show Hn posts with other posts based on average number of comments and points per post:"
   ]
  },
  {
   "cell_type": "code",
   "execution_count": 222,
   "metadata": {},
   "outputs": [
    {
     "name": "stdout",
     "output_type": "stream",
     "text": [
      "For Others category, the avg num of comments per post is 26.87\n",
      "For Others category, the avg num of points per post is 55.41\n"
     ]
    }
   ],
   "source": [
    "#Determining number of comments and points per post for Other Posts:\n",
    "num_of_other_posts = 0\n",
    "total_comments = 0\n",
    "total_points = 0\n",
    "for row in other_posts:\n",
    "    num_of_other_posts += 1\n",
    "    total_comments += float(row[4])\n",
    "    total_points += float(row[3])\n",
    "    \n",
    "print('For Others category, the avg num of comments per post is {:.2f}'.format(total_comments/num_of_other_posts))\n",
    "print('For Others category, the avg num of points per post is {:.2f}'.format(total_points/num_of_other_posts))"
   ]
  },
  {
   "cell_type": "markdown",
   "metadata": {},
   "source": [
    "For Ask Hn cateogy, avg num of comments per post is 14.04\n",
    "For Ask Hn category, avg num of points per post is 15.06\n",
    "\n",
    "For Show Hn category, avg num of comments per post is 10.32\n",
    "For Show Hn category, avg num of points per post is 27.56\n",
    "\n",
    "Hence we can see that despite this report focusing on comparison of Ask Hn type posts and Show Hn type posts, the average number of points and comments is much higher in other categories."
   ]
  },
  {
   "cell_type": "markdown",
   "metadata": {},
   "source": [
    "### Conclusion\n",
    "\n",
    "When comparing between Ask Hn and Show Hn type posts, Ask Hn type posts is more likely to generate more comments at 0300, 1400, 0800, 0400 and 0900 Hours.(Sg time) However Show Hn type posts is more likely to generate more points at 1100, 0000, 1000, 1200, 0600 hours.  Hence users wanting more comments from audience should pick to post Ask Hn type post at the abovementioned hours.  In contrast, users wanting more points should pick Shown Hn type posts at the abovementioned hours.  This analysis has only been limited to comparison between Ask Hn and Shown Hn categories but comparison with other categories show that Ask Hn and Shown Hn generates much lesser average num of points and comments per post as opposed to posts in 'others' category.  "
   ]
  }
 ],
 "metadata": {
  "kernelspec": {
   "display_name": "Python 3",
   "language": "python",
   "name": "python3"
  },
  "language_info": {
   "codemirror_mode": {
    "name": "ipython",
    "version": 3
   },
   "file_extension": ".py",
   "mimetype": "text/x-python",
   "name": "python",
   "nbconvert_exporter": "python",
   "pygments_lexer": "ipython3",
   "version": "3.7.3"
  }
 },
 "nbformat": 4,
 "nbformat_minor": 2
}
